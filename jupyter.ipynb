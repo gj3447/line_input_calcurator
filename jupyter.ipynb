{
 "cells": [
  {
   "cell_type": "code",
   "execution_count": null,
   "source": [
    "operator_priority = {'+':int(0),'-':int(0),'*':int(1),'/':int(1),'^':int(2)}\r\n",
    "operator = ('+','-','*','/','^')\r\n",
    "number = ('0','1','2','3','4','5','6','7','8','9')"
   ],
   "outputs": [],
   "metadata": {}
  },
  {
   "cell_type": "code",
   "execution_count": null,
   "source": [
    "#============================ 사칙연산 계산값을 담기위한 노드입니다 =========\r\n",
    "class Node:\r\n",
    "    def __init__(self,data):\r\n",
    "        self.data = data\r\n",
    "    def result(self):\r\n",
    "        pass\r\n",
    "    def display(self):\r\n",
    "        pass"
   ],
   "outputs": [],
   "metadata": {}
  },
  {
   "cell_type": "markdown",
   "source": [
    "\r\n",
    "#============================ \r\n",
    "class Operator_Node(Node):\r\n",
    "    def __init__(self,data):\r\n",
    "        self.front_node = None\r\n",
    "        self.back_node = None\r\n",
    "        self.data = data\r\n",
    "    def display(self):\r\n",
    "        self.front_node.display()\r\n",
    "        print(self.data)\r\n",
    "        self.back_node.display()\r\n",
    "    def priority(self): # 우선도 전역변수의 값을 따라갑니다\r\n",
    "        return operator_priority[self.data]\r\n",
    "    def result(self):\r\n",
    "        if self.front_node ==None:  # 계산불능 오류\r\n",
    "            return False\r\n",
    "        if self.back_node == None:  # 계산불능 오류\r\n",
    "            return False\r\n",
    "        if self.data=='+':\r\n",
    "            return self.front_node.result()+ self.back_node.result()\r\n",
    "        elif self.data=='-':\r\n",
    "            return self.front_node.result()- self.back_node.result()\r\n",
    "        elif self.data=='*':\r\n",
    "            return self.front_node.result()* self.back_node.result()\r\n",
    "        elif self.data=='/':\r\n",
    "            return self.front_node.result()/ self.back_node.result()\r\n",
    "        elif self.data=='^':\r\n",
    "            return self.front_node.result()** self.back_node.result()\r\n",
    "        else:\r\n",
    "            return  # 계산불능 오류\r\n",
    "            return float(0)\r\n"
   ],
   "metadata": {}
  },
  {
   "cell_type": "markdown",
   "source": [
    "class Number_Node(Node):\r\n",
    "    def __init__(self,data):\r\n",
    "        self.negative = False\r\n",
    "        self.data = data\r\n",
    "    def display(self):\r\n",
    "        print(self.data)\r\n",
    "    def result(self):\r\n",
    "        if self.negative:\r\n",
    "            return float(self.data) * float(-1)\r\n",
    "        else :\r\n",
    "            return float(self.data)"
   ],
   "metadata": {}
  }
 ],
 "metadata": {
  "orig_nbformat": 4,
  "language_info": {
   "name": "python"
  }
 },
 "nbformat": 4,
 "nbformat_minor": 2
}